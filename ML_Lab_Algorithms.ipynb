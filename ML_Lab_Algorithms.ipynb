{
  "cells": [
    {
      "cell_type": "markdown",
      "metadata": {
        "id": "view-in-github",
        "colab_type": "text"
      },
      "source": [
        "<a href=\"https://colab.research.google.com/github/ktoyesh04/algorithms/blob/master/ML_Lab_Algorithms.ipynb\" target=\"_parent\"><img src=\"https://colab.research.google.com/assets/colab-badge.svg\" alt=\"Open In Colab\"/></a>"
      ]
    },
    {
      "cell_type": "markdown",
      "metadata": {
        "id": "LWMCaiEXnEg_"
      },
      "source": [
        "## Find - S"
      ]
    },
    {
      "cell_type": "code",
      "execution_count": null,
      "metadata": {
        "id": "BUBOV0ulxhoy"
      },
      "outputs": [],
      "source": [
        "import pandas as pd"
      ]
    },
    {
      "cell_type": "code",
      "execution_count": null,
      "metadata": {
        "colab": {
          "base_uri": "https://localhost:8080/",
          "height": 407
        },
        "id": "--vZkl9BxqMl",
        "outputId": "ae97b2ed-066d-405b-96a0-6bd60052a73f"
      },
      "outputs": [
        {
          "data": {
            "text/html": [
              "<div>\n",
              "<style scoped>\n",
              "    .dataframe tbody tr th:only-of-type {\n",
              "        vertical-align: middle;\n",
              "    }\n",
              "\n",
              "    .dataframe tbody tr th {\n",
              "        vertical-align: top;\n",
              "    }\n",
              "\n",
              "    .dataframe thead th {\n",
              "        text-align: right;\n",
              "    }\n",
              "</style>\n",
              "<table border=\"1\" class=\"dataframe\">\n",
              "  <thead>\n",
              "    <tr style=\"text-align: right;\">\n",
              "      <th></th>\n",
              "      <th>Sky</th>\n",
              "      <th>AirTemp</th>\n",
              "      <th>Humidity</th>\n",
              "      <th>Wind</th>\n",
              "      <th>Water</th>\n",
              "      <th>Forecast</th>\n",
              "      <th>EnjoySport</th>\n",
              "    </tr>\n",
              "  </thead>\n",
              "  <tbody>\n",
              "    <tr>\n",
              "      <th>0</th>\n",
              "      <td>Sunny</td>\n",
              "      <td>Warm</td>\n",
              "      <td>Normal</td>\n",
              "      <td>Strong</td>\n",
              "      <td>Warm</td>\n",
              "      <td>Same</td>\n",
              "      <td>Yes</td>\n",
              "    </tr>\n",
              "    <tr>\n",
              "      <th>1</th>\n",
              "      <td>Sunny</td>\n",
              "      <td>Warm</td>\n",
              "      <td>High</td>\n",
              "      <td>Strong</td>\n",
              "      <td>Warm</td>\n",
              "      <td>Same</td>\n",
              "      <td>Yes</td>\n",
              "    </tr>\n",
              "    <tr>\n",
              "      <th>2</th>\n",
              "      <td>Rainy</td>\n",
              "      <td>Cold</td>\n",
              "      <td>High</td>\n",
              "      <td>Strong</td>\n",
              "      <td>Warm</td>\n",
              "      <td>Change</td>\n",
              "      <td>No</td>\n",
              "    </tr>\n",
              "    <tr>\n",
              "      <th>3</th>\n",
              "      <td>Sunny</td>\n",
              "      <td>Warm</td>\n",
              "      <td>High</td>\n",
              "      <td>Strong</td>\n",
              "      <td>Cool</td>\n",
              "      <td>Change</td>\n",
              "      <td>Yes</td>\n",
              "    </tr>\n",
              "  </tbody>\n",
              "</table>\n",
              "</div>"
            ],
            "text/plain": [
              "     Sky AirTemp Humidity    Wind Water Forecast EnjoySport\n",
              "0  Sunny    Warm   Normal  Strong  Warm     Same        Yes\n",
              "1  Sunny    Warm     High  Strong  Warm     Same        Yes\n",
              "2  Rainy    Cold     High  Strong  Warm   Change         No\n",
              "3  Sunny    Warm     High  Strong  Cool   Change        Yes"
            ]
          },
          "execution_count": 3,
          "metadata": {},
          "output_type": "execute_result"
        }
      ],
      "source": [
        "df = pd.read_clipboard()\n",
        "df"
      ]
    },
    {
      "cell_type": "code",
      "execution_count": null,
      "metadata": {
        "colab": {
          "base_uri": "https://localhost:8080/",
          "height": 35
        },
        "id": "eRq6gnoMxxgj",
        "outputId": "ca0e9ff4-72e9-42d9-bbef-e2066156f865"
      },
      "outputs": [
        {
          "data": {
            "text/plain": [
              "'Sunny'"
            ]
          },
          "execution_count": 3,
          "metadata": {},
          "output_type": "execute_result"
        }
      ],
      "source": [
        "df.iloc[0, 0]#['Sky']"
      ]
    },
    {
      "cell_type": "code",
      "execution_count": null,
      "metadata": {
        "colab": {
          "base_uri": "https://localhost:8080/"
        },
        "id": "y4rhnl-b01E7",
        "outputId": "5d3e56d4-d270-47b0-dee8-9ef76576db24"
      },
      "outputs": [
        {
          "data": {
            "text/plain": [
              "(4, 7)"
            ]
          },
          "execution_count": 4,
          "metadata": {},
          "output_type": "execute_result"
        }
      ],
      "source": [
        "df.shape"
      ]
    },
    {
      "cell_type": "code",
      "execution_count": null,
      "metadata": {
        "id": "J1RxD_KfBctN",
        "outputId": "32d0d346-0887-4880-8dc5-7c02315d1f2b"
      },
      "outputs": [
        {
          "data": {
            "text/plain": [
              "['Sunny', 'Warm', '?', 'Strong', '?', '?']"
            ]
          },
          "execution_count": 13,
          "metadata": {},
          "output_type": "execute_result"
        }
      ],
      "source": [
        "c = df.shape[1]\n",
        "h = ['Φ']*(c-1)\n",
        "rows = df[df.EnjoySport == 'Yes'].iloc[:, :-1]\n",
        "for _, row in rows.iterrows():\n",
        "    for i, value in enumerate(row):\n",
        "        if h[i] == 'Φ':\n",
        "            h[i] = value\n",
        "        elif h[i] != value:\n",
        "            h[i] = '?'"
      ]
    },
    {
      "cell_type": "code",
      "execution_count": null,
      "metadata": {
        "id": "_HTLY2ghqW9P"
      },
      "outputs": [],
      "source": [
        "for index, row in df.iterrows():\n",
        "  for i, value in enumerate(row):\n",
        "    print(i, value)"
      ]
    },
    {
      "cell_type": "markdown",
      "metadata": {
        "id": "b__blBtGnLQd"
      },
      "source": [
        "## Candidate Elimination"
      ]
    },
    {
      "cell_type": "code",
      "execution_count": null,
      "metadata": {
        "id": "SHBzLaAjBctO",
        "outputId": "8edc532b-d107-42b9-af4a-2e688f9b9d71"
      },
      "outputs": [
        {
          "data": {
            "text/plain": [
              "(['Sunny', 'Warm', '?', 'Strong', '?', '?'],\n",
              " [['Sunny', '?', '?', '?', '?', '?'], ['?', 'Warm', '?', '?', '?', '?']])"
            ]
          },
          "execution_count": 19,
          "metadata": {},
          "output_type": "execute_result"
        }
      ],
      "source": [
        "c = df.shape[1]\n",
        "s = ['Φ']*(c-1)\n",
        "g = [['?']*(c-1) for _ in range(c-1)]\n",
        "for _, row in df.iterrows():\n",
        "    if row.EnjoySport == 'Yes':\n",
        "        for i, value in enumerate(row[:-1]):\n",
        "            if s[i] == 'Φ':\n",
        "                s[i] = value\n",
        "            elif s[i] != value:\n",
        "                s[i] = '?'\n",
        "                g[i][i] = '?'\n",
        "    else:\n",
        "        for i, value in enumerate(row[:-1]):\n",
        "            if s[i] != value:\n",
        "                g[i][i] = s[i]\n",
        "g = [l for l in g if l.count('?') != (c-1)]\n",
        "s, g"
      ]
    },
    {
      "cell_type": "markdown",
      "metadata": {
        "id": "-T-Auc2Z8z92"
      },
      "source": [
        "## Decision Tree"
      ]
    },
    {
      "cell_type": "code",
      "execution_count": null,
      "metadata": {
        "id": "VpNQWr_JE1F2"
      },
      "outputs": [],
      "source": [
        "from sklearn.model_selection import train_test_split\n",
        "from sklearn.tree import DecisionTreeClassifier\n",
        "import pandas as pd"
      ]
    },
    {
      "cell_type": "code",
      "execution_count": null,
      "metadata": {
        "colab": {
          "base_uri": "https://localhost:8080/",
          "height": 551
        },
        "id": "Wi4O9CI06IZr",
        "outputId": "2b758b37-9dae-404c-8b36-23fbd2c05410"
      },
      "outputs": [
        {
          "data": {
            "text/html": [
              "<div>\n",
              "<style scoped>\n",
              "    .dataframe tbody tr th:only-of-type {\n",
              "        vertical-align: middle;\n",
              "    }\n",
              "\n",
              "    .dataframe tbody tr th {\n",
              "        vertical-align: top;\n",
              "    }\n",
              "\n",
              "    .dataframe thead th {\n",
              "        text-align: right;\n",
              "    }\n",
              "</style>\n",
              "<table border=\"1\" class=\"dataframe\">\n",
              "  <thead>\n",
              "    <tr style=\"text-align: right;\">\n",
              "      <th></th>\n",
              "      <th>Outlook</th>\n",
              "      <th>Temperature</th>\n",
              "      <th>Humidity</th>\n",
              "      <th>Wind</th>\n",
              "      <th>PlayTennis</th>\n",
              "    </tr>\n",
              "    <tr>\n",
              "      <th>Day</th>\n",
              "      <th></th>\n",
              "      <th></th>\n",
              "      <th></th>\n",
              "      <th></th>\n",
              "      <th></th>\n",
              "    </tr>\n",
              "  </thead>\n",
              "  <tbody>\n",
              "    <tr>\n",
              "      <th>Dl</th>\n",
              "      <td>Sunny</td>\n",
              "      <td>Hot</td>\n",
              "      <td>High</td>\n",
              "      <td>Weak</td>\n",
              "      <td>No</td>\n",
              "    </tr>\n",
              "    <tr>\n",
              "      <th>D2</th>\n",
              "      <td>Sunny</td>\n",
              "      <td>Hot</td>\n",
              "      <td>High</td>\n",
              "      <td>Strong</td>\n",
              "      <td>No</td>\n",
              "    </tr>\n",
              "    <tr>\n",
              "      <th>D3</th>\n",
              "      <td>Overcast</td>\n",
              "      <td>Hot</td>\n",
              "      <td>High</td>\n",
              "      <td>Weak</td>\n",
              "      <td>Yes</td>\n",
              "    </tr>\n",
              "    <tr>\n",
              "      <th>D4</th>\n",
              "      <td>Rain</td>\n",
              "      <td>Mild</td>\n",
              "      <td>High</td>\n",
              "      <td>Weak</td>\n",
              "      <td>Yes</td>\n",
              "    </tr>\n",
              "    <tr>\n",
              "      <th>D5</th>\n",
              "      <td>Rain</td>\n",
              "      <td>Cool</td>\n",
              "      <td>Normal</td>\n",
              "      <td>Weak</td>\n",
              "      <td>Yes</td>\n",
              "    </tr>\n",
              "    <tr>\n",
              "      <th>D6</th>\n",
              "      <td>Rain</td>\n",
              "      <td>Cool</td>\n",
              "      <td>Normal</td>\n",
              "      <td>Strong</td>\n",
              "      <td>No</td>\n",
              "    </tr>\n",
              "    <tr>\n",
              "      <th>D7</th>\n",
              "      <td>Overcast</td>\n",
              "      <td>Cool</td>\n",
              "      <td>Normal</td>\n",
              "      <td>Strong</td>\n",
              "      <td>Yes</td>\n",
              "    </tr>\n",
              "    <tr>\n",
              "      <th>D8</th>\n",
              "      <td>Sunny</td>\n",
              "      <td>Mild</td>\n",
              "      <td>High</td>\n",
              "      <td>Weak</td>\n",
              "      <td>No</td>\n",
              "    </tr>\n",
              "    <tr>\n",
              "      <th>D9</th>\n",
              "      <td>Sunny</td>\n",
              "      <td>Cool</td>\n",
              "      <td>Normal</td>\n",
              "      <td>Weak</td>\n",
              "      <td>Yes</td>\n",
              "    </tr>\n",
              "    <tr>\n",
              "      <th>Dl0</th>\n",
              "      <td>Rain</td>\n",
              "      <td>Mild</td>\n",
              "      <td>Normal</td>\n",
              "      <td>Weak</td>\n",
              "      <td>Yes</td>\n",
              "    </tr>\n",
              "    <tr>\n",
              "      <th>Dl1</th>\n",
              "      <td>Sunny</td>\n",
              "      <td>Mild</td>\n",
              "      <td>Normal</td>\n",
              "      <td>Strong</td>\n",
              "      <td>Yes</td>\n",
              "    </tr>\n",
              "    <tr>\n",
              "      <th>Dl2</th>\n",
              "      <td>Overcast</td>\n",
              "      <td>Mild</td>\n",
              "      <td>High</td>\n",
              "      <td>Strong</td>\n",
              "      <td>Yes</td>\n",
              "    </tr>\n",
              "    <tr>\n",
              "      <th>Dl3</th>\n",
              "      <td>Overcast</td>\n",
              "      <td>Hot</td>\n",
              "      <td>Normal</td>\n",
              "      <td>Weak</td>\n",
              "      <td>Yes</td>\n",
              "    </tr>\n",
              "    <tr>\n",
              "      <th>Dl4</th>\n",
              "      <td>Rain</td>\n",
              "      <td>Mild</td>\n",
              "      <td>High</td>\n",
              "      <td>Strong</td>\n",
              "      <td>No</td>\n",
              "    </tr>\n",
              "  </tbody>\n",
              "</table>\n",
              "</div>"
            ],
            "text/plain": [
              "      Outlook Temperature Humidity    Wind PlayTennis\n",
              "Day                                                  \n",
              "Dl      Sunny         Hot     High    Weak         No\n",
              "D2      Sunny         Hot     High  Strong         No\n",
              "D3   Overcast         Hot     High    Weak        Yes\n",
              "D4       Rain        Mild     High    Weak        Yes\n",
              "D5       Rain        Cool   Normal    Weak        Yes\n",
              "D6       Rain        Cool   Normal  Strong         No\n",
              "D7   Overcast        Cool   Normal  Strong        Yes\n",
              "D8      Sunny        Mild     High    Weak         No\n",
              "D9      Sunny        Cool   Normal    Weak        Yes\n",
              "Dl0      Rain        Mild   Normal    Weak        Yes\n",
              "Dl1     Sunny        Mild   Normal  Strong        Yes\n",
              "Dl2  Overcast        Mild     High  Strong        Yes\n",
              "Dl3  Overcast         Hot   Normal    Weak        Yes\n",
              "Dl4      Rain        Mild     High  Strong         No"
            ]
          },
          "execution_count": 2,
          "metadata": {},
          "output_type": "execute_result"
        }
      ],
      "source": [
        "data = pd.read_clipboard()\n",
        "# data.set_index(data.Day, inplace=True)\n",
        "# data.drop('Day', axis=1, inplace=True)\n",
        "data"
      ]
    },
    {
      "cell_type": "code",
      "execution_count": null,
      "metadata": {
        "id": "1PRsg-956Nqq",
        "outputId": "0310acb2-db93-48ed-981a-d7a0cc81a779"
      },
      "outputs": [
        {
          "data": {
            "text/html": [
              "<div>\n",
              "<style scoped>\n",
              "    .dataframe tbody tr th:only-of-type {\n",
              "        vertical-align: middle;\n",
              "    }\n",
              "\n",
              "    .dataframe tbody tr th {\n",
              "        vertical-align: top;\n",
              "    }\n",
              "\n",
              "    .dataframe thead th {\n",
              "        text-align: right;\n",
              "    }\n",
              "</style>\n",
              "<table border=\"1\" class=\"dataframe\">\n",
              "  <thead>\n",
              "    <tr style=\"text-align: right;\">\n",
              "      <th></th>\n",
              "      <th>Outlook_Overcast</th>\n",
              "      <th>Outlook_Rain</th>\n",
              "      <th>Outlook_Sunny</th>\n",
              "      <th>Temperature_Cool</th>\n",
              "      <th>Temperature_Hot</th>\n",
              "      <th>Temperature_Mild</th>\n",
              "      <th>Humidity_High</th>\n",
              "      <th>Humidity_Normal</th>\n",
              "      <th>Wind_Strong</th>\n",
              "      <th>Wind_Weak</th>\n",
              "    </tr>\n",
              "    <tr>\n",
              "      <th>Day</th>\n",
              "      <th></th>\n",
              "      <th></th>\n",
              "      <th></th>\n",
              "      <th></th>\n",
              "      <th></th>\n",
              "      <th></th>\n",
              "      <th></th>\n",
              "      <th></th>\n",
              "      <th></th>\n",
              "      <th></th>\n",
              "    </tr>\n",
              "  </thead>\n",
              "  <tbody>\n",
              "    <tr>\n",
              "      <th>Dl</th>\n",
              "      <td>False</td>\n",
              "      <td>False</td>\n",
              "      <td>True</td>\n",
              "      <td>False</td>\n",
              "      <td>True</td>\n",
              "      <td>False</td>\n",
              "      <td>True</td>\n",
              "      <td>False</td>\n",
              "      <td>False</td>\n",
              "      <td>True</td>\n",
              "    </tr>\n",
              "    <tr>\n",
              "      <th>D2</th>\n",
              "      <td>False</td>\n",
              "      <td>False</td>\n",
              "      <td>True</td>\n",
              "      <td>False</td>\n",
              "      <td>True</td>\n",
              "      <td>False</td>\n",
              "      <td>True</td>\n",
              "      <td>False</td>\n",
              "      <td>True</td>\n",
              "      <td>False</td>\n",
              "    </tr>\n",
              "    <tr>\n",
              "      <th>D3</th>\n",
              "      <td>True</td>\n",
              "      <td>False</td>\n",
              "      <td>False</td>\n",
              "      <td>False</td>\n",
              "      <td>True</td>\n",
              "      <td>False</td>\n",
              "      <td>True</td>\n",
              "      <td>False</td>\n",
              "      <td>False</td>\n",
              "      <td>True</td>\n",
              "    </tr>\n",
              "    <tr>\n",
              "      <th>D4</th>\n",
              "      <td>False</td>\n",
              "      <td>True</td>\n",
              "      <td>False</td>\n",
              "      <td>False</td>\n",
              "      <td>False</td>\n",
              "      <td>True</td>\n",
              "      <td>True</td>\n",
              "      <td>False</td>\n",
              "      <td>False</td>\n",
              "      <td>True</td>\n",
              "    </tr>\n",
              "    <tr>\n",
              "      <th>D5</th>\n",
              "      <td>False</td>\n",
              "      <td>True</td>\n",
              "      <td>False</td>\n",
              "      <td>True</td>\n",
              "      <td>False</td>\n",
              "      <td>False</td>\n",
              "      <td>False</td>\n",
              "      <td>True</td>\n",
              "      <td>False</td>\n",
              "      <td>True</td>\n",
              "    </tr>\n",
              "    <tr>\n",
              "      <th>D6</th>\n",
              "      <td>False</td>\n",
              "      <td>True</td>\n",
              "      <td>False</td>\n",
              "      <td>True</td>\n",
              "      <td>False</td>\n",
              "      <td>False</td>\n",
              "      <td>False</td>\n",
              "      <td>True</td>\n",
              "      <td>True</td>\n",
              "      <td>False</td>\n",
              "    </tr>\n",
              "    <tr>\n",
              "      <th>D7</th>\n",
              "      <td>True</td>\n",
              "      <td>False</td>\n",
              "      <td>False</td>\n",
              "      <td>True</td>\n",
              "      <td>False</td>\n",
              "      <td>False</td>\n",
              "      <td>False</td>\n",
              "      <td>True</td>\n",
              "      <td>True</td>\n",
              "      <td>False</td>\n",
              "    </tr>\n",
              "    <tr>\n",
              "      <th>D8</th>\n",
              "      <td>False</td>\n",
              "      <td>False</td>\n",
              "      <td>True</td>\n",
              "      <td>False</td>\n",
              "      <td>False</td>\n",
              "      <td>True</td>\n",
              "      <td>True</td>\n",
              "      <td>False</td>\n",
              "      <td>False</td>\n",
              "      <td>True</td>\n",
              "    </tr>\n",
              "    <tr>\n",
              "      <th>D9</th>\n",
              "      <td>False</td>\n",
              "      <td>False</td>\n",
              "      <td>True</td>\n",
              "      <td>True</td>\n",
              "      <td>False</td>\n",
              "      <td>False</td>\n",
              "      <td>False</td>\n",
              "      <td>True</td>\n",
              "      <td>False</td>\n",
              "      <td>True</td>\n",
              "    </tr>\n",
              "    <tr>\n",
              "      <th>Dl0</th>\n",
              "      <td>False</td>\n",
              "      <td>True</td>\n",
              "      <td>False</td>\n",
              "      <td>False</td>\n",
              "      <td>False</td>\n",
              "      <td>True</td>\n",
              "      <td>False</td>\n",
              "      <td>True</td>\n",
              "      <td>False</td>\n",
              "      <td>True</td>\n",
              "    </tr>\n",
              "    <tr>\n",
              "      <th>Dl1</th>\n",
              "      <td>False</td>\n",
              "      <td>False</td>\n",
              "      <td>True</td>\n",
              "      <td>False</td>\n",
              "      <td>False</td>\n",
              "      <td>True</td>\n",
              "      <td>False</td>\n",
              "      <td>True</td>\n",
              "      <td>True</td>\n",
              "      <td>False</td>\n",
              "    </tr>\n",
              "    <tr>\n",
              "      <th>Dl2</th>\n",
              "      <td>True</td>\n",
              "      <td>False</td>\n",
              "      <td>False</td>\n",
              "      <td>False</td>\n",
              "      <td>False</td>\n",
              "      <td>True</td>\n",
              "      <td>True</td>\n",
              "      <td>False</td>\n",
              "      <td>True</td>\n",
              "      <td>False</td>\n",
              "    </tr>\n",
              "    <tr>\n",
              "      <th>Dl3</th>\n",
              "      <td>True</td>\n",
              "      <td>False</td>\n",
              "      <td>False</td>\n",
              "      <td>False</td>\n",
              "      <td>True</td>\n",
              "      <td>False</td>\n",
              "      <td>False</td>\n",
              "      <td>True</td>\n",
              "      <td>False</td>\n",
              "      <td>True</td>\n",
              "    </tr>\n",
              "    <tr>\n",
              "      <th>Dl4</th>\n",
              "      <td>False</td>\n",
              "      <td>True</td>\n",
              "      <td>False</td>\n",
              "      <td>False</td>\n",
              "      <td>False</td>\n",
              "      <td>True</td>\n",
              "      <td>True</td>\n",
              "      <td>False</td>\n",
              "      <td>True</td>\n",
              "      <td>False</td>\n",
              "    </tr>\n",
              "  </tbody>\n",
              "</table>\n",
              "</div>"
            ],
            "text/plain": [
              "     Outlook_Overcast  Outlook_Rain  Outlook_Sunny  Temperature_Cool  \\\n",
              "Day                                                                    \n",
              "Dl              False         False           True             False   \n",
              "D2              False         False           True             False   \n",
              "D3               True         False          False             False   \n",
              "D4              False          True          False             False   \n",
              "D5              False          True          False              True   \n",
              "D6              False          True          False              True   \n",
              "D7               True         False          False              True   \n",
              "D8              False         False           True             False   \n",
              "D9              False         False           True              True   \n",
              "Dl0             False          True          False             False   \n",
              "Dl1             False         False           True             False   \n",
              "Dl2              True         False          False             False   \n",
              "Dl3              True         False          False             False   \n",
              "Dl4             False          True          False             False   \n",
              "\n",
              "     Temperature_Hot  Temperature_Mild  Humidity_High  Humidity_Normal  \\\n",
              "Day                                                                      \n",
              "Dl              True             False           True            False   \n",
              "D2              True             False           True            False   \n",
              "D3              True             False           True            False   \n",
              "D4             False              True           True            False   \n",
              "D5             False             False          False             True   \n",
              "D6             False             False          False             True   \n",
              "D7             False             False          False             True   \n",
              "D8             False              True           True            False   \n",
              "D9             False             False          False             True   \n",
              "Dl0            False              True          False             True   \n",
              "Dl1            False              True          False             True   \n",
              "Dl2            False              True           True            False   \n",
              "Dl3             True             False          False             True   \n",
              "Dl4            False              True           True            False   \n",
              "\n",
              "     Wind_Strong  Wind_Weak  \n",
              "Day                          \n",
              "Dl         False       True  \n",
              "D2          True      False  \n",
              "D3         False       True  \n",
              "D4         False       True  \n",
              "D5         False       True  \n",
              "D6          True      False  \n",
              "D7          True      False  \n",
              "D8         False       True  \n",
              "D9         False       True  \n",
              "Dl0        False       True  \n",
              "Dl1         True      False  \n",
              "Dl2         True      False  \n",
              "Dl3        False       True  \n",
              "Dl4         True      False  "
            ]
          },
          "execution_count": 3,
          "metadata": {},
          "output_type": "execute_result"
        }
      ],
      "source": [
        "dummy_data = pd.get_dummies(data, columns=data.columns[:-1])\n",
        "X = dummy_data.drop('PlayTennis', axis=1)\n",
        "y = dummy_data['PlayTennis']\n",
        "X"
      ]
    },
    {
      "cell_type": "code",
      "execution_count": null,
      "metadata": {
        "colab": {
          "base_uri": "https://localhost:8080/",
          "height": 961
        },
        "id": "QJsiFz07-yW6",
        "outputId": "a1171b06-c707-4855-9850-d402ee066b1a"
      },
      "outputs": [
        {
          "data": {
            "image/png": "[encoded data removed]",
            "text/plain": [
              "<Figure size 1600x900 with 1 Axes>"
            ]
          },
          "metadata": {},
          "output_type": "display_data"
        }
      ],
      "source": [
        "from sklearn.tree import plot_tree\n",
        "from matplotlib import pyplot as plt\n",
        "dtree = DecisionTreeClassifier(criterion='entropy', max_depth=3)\n",
        "dtree.fit(X, y)\n",
        "fig = plt.figure(figsize=(16, 9))\n",
        "a = plot_tree(dtree, feature_names=list(X.columns), filled=True, fontsize=12, class_names=['No', 'Yes'])"
      ]
    },
    {
      "cell_type": "markdown",
      "metadata": {
        "id": "7RNvhB9iHqLq"
      },
      "source": [
        "# Perceptron"
      ]
    },
    {
      "cell_type": "code",
      "execution_count": null,
      "metadata": {
        "id": "cdPA_4OmBctQ",
        "outputId": "0a3495e1-eb8f-4856-bef5-0818ba4a130d"
      },
      "outputs": [
        {
          "data": {
            "text/plain": [
              "1"
            ]
          },
          "execution_count": 20,
          "metadata": {},
          "output_type": "execute_result"
        }
      ],
      "source": [
        "import numpy as np\n",
        "def perceptron(input_data, wts):\n",
        "    x = np.dot(input_data, wts)\n",
        "    return step(x)\n",
        "def step(x):\n",
        "    return 1 if x>0 else 0\n",
        "input_data = np.array([1, 0.5])\n",
        "wts = np.array([2, -1])\n",
        "perceptron(input_data, wts)"
      ]
    },
    {
      "cell_type": "markdown",
      "metadata": {
        "id": "Fa4yrRP93136"
      },
      "source": [
        "# Syllabus"
      ]
    },
    {
      "cell_type": "markdown",
      "metadata": {
        "id": "KxsKwrN2_7wf"
      },
      "source": [
        "1. The probability that it is Friday and that a student is absent is 3 %. Since there are 5 school days in a\n",
        "week, the probability that it is Friday is 20 %. What is the probability that a student is absent given\n",
        "that today is Friday? Apply Baye’s rule in python to get the result. (Ans: 15%)"
      ]
    },
    {
      "cell_type": "code",
      "execution_count": null,
      "metadata": {
        "colab": {
          "base_uri": "https://localhost:8080/"
        },
        "id": "V-AEyXbN31bS",
        "outputId": "85308ff5-14d7-44fc-c5ef-6fc55cca3e42"
      },
      "outputs": [
        {
          "data": {
            "text/plain": [
              "15.0"
            ]
          },
          "execution_count": 3,
          "metadata": {},
          "output_type": "execute_result"
        }
      ],
      "source": [
        "def bayes(pB, pAandB):\n",
        "  return pAandB / pB\n",
        "\n",
        "prob = {'B': 0.2, 'AandB': 0.03}\n",
        "bayes(prob['B'], prob['AandB'])*100"
      ]
    },
    {
      "cell_type": "markdown",
      "metadata": {
        "id": "3uoUds--AeMM"
      },
      "source": [
        "2.The following training examples map descriptions of individuals onto high, medium and low credit-worthiness. The following training examples map descriptions of individuals onto high, medium and low credit-\n",
        "worthiness."
      ]
    },
    {
      "cell_type": "code",
      "execution_count": null,
      "metadata": {
        "colab": {
          "base_uri": "https://localhost:8080/",
          "height": 363
        },
        "id": "5JjjJnVQ7xQ9",
        "outputId": "690e8c1a-975f-4bac-97ae-55f169a47013"
      },
      "outputs": [
        {
          "data": {
            "text/html": [
              "\n",
              "  <div id=\"df-ea6900b9-2f93-4bcb-9d57-3e29e20fddea\" class=\"colab-df-container\">\n",
              "    <div>\n",
              "<style scoped>\n",
              "    .dataframe tbody tr th:only-of-type {\n",
              "        vertical-align: middle;\n",
              "    }\n",
              "\n",
              "    .dataframe tbody tr th {\n",
              "        vertical-align: top;\n",
              "    }\n",
              "\n",
              "    .dataframe thead th {\n",
              "        text-align: right;\n",
              "    }\n",
              "</style>\n",
              "<table border=\"1\" class=\"dataframe\">\n",
              "  <thead>\n",
              "    <tr style=\"text-align: right;\">\n",
              "      <th></th>\n",
              "      <th>income</th>\n",
              "      <th>recreation</th>\n",
              "      <th>job</th>\n",
              "      <th>status</th>\n",
              "      <th>age-group</th>\n",
              "      <th>home-owner</th>\n",
              "      <th>credit</th>\n",
              "    </tr>\n",
              "  </thead>\n",
              "  <tbody>\n",
              "    <tr>\n",
              "      <th>0</th>\n",
              "      <td>medium</td>\n",
              "      <td>skiing</td>\n",
              "      <td>design</td>\n",
              "      <td>single</td>\n",
              "      <td>twenties</td>\n",
              "      <td>no</td>\n",
              "      <td>highRisk</td>\n",
              "    </tr>\n",
              "    <tr>\n",
              "      <th>1</th>\n",
              "      <td>high</td>\n",
              "      <td>golf</td>\n",
              "      <td>trading</td>\n",
              "      <td>married</td>\n",
              "      <td>forties</td>\n",
              "      <td>yes</td>\n",
              "      <td>lowRisk</td>\n",
              "    </tr>\n",
              "    <tr>\n",
              "      <th>2</th>\n",
              "      <td>low</td>\n",
              "      <td>speedway</td>\n",
              "      <td>transport</td>\n",
              "      <td>married</td>\n",
              "      <td>thirties</td>\n",
              "      <td>yes</td>\n",
              "      <td>medRisk</td>\n",
              "    </tr>\n",
              "    <tr>\n",
              "      <th>3</th>\n",
              "      <td>medium</td>\n",
              "      <td>football</td>\n",
              "      <td>banking</td>\n",
              "      <td>single</td>\n",
              "      <td>thirties</td>\n",
              "      <td>yes</td>\n",
              "      <td>lowRisk</td>\n",
              "    </tr>\n",
              "    <tr>\n",
              "      <th>4</th>\n",
              "      <td>high</td>\n",
              "      <td>flying</td>\n",
              "      <td>media</td>\n",
              "      <td>married</td>\n",
              "      <td>fifties</td>\n",
              "      <td>yes</td>\n",
              "      <td>highRisk</td>\n",
              "    </tr>\n",
              "    <tr>\n",
              "      <th>5</th>\n",
              "      <td>low</td>\n",
              "      <td>football</td>\n",
              "      <td>security</td>\n",
              "      <td>single</td>\n",
              "      <td>twenties</td>\n",
              "      <td>no</td>\n",
              "      <td>medRisk</td>\n",
              "    </tr>\n",
              "    <tr>\n",
              "      <th>6</th>\n",
              "      <td>medium</td>\n",
              "      <td>golf</td>\n",
              "      <td>media</td>\n",
              "      <td>single</td>\n",
              "      <td>thirties</td>\n",
              "      <td>yes</td>\n",
              "      <td>medRisk</td>\n",
              "    </tr>\n",
              "    <tr>\n",
              "      <th>7</th>\n",
              "      <td>medium</td>\n",
              "      <td>golf</td>\n",
              "      <td>transport</td>\n",
              "      <td>married</td>\n",
              "      <td>forties</td>\n",
              "      <td>yes</td>\n",
              "      <td>lowRisk</td>\n",
              "    </tr>\n",
              "    <tr>\n",
              "      <th>8</th>\n",
              "      <td>high</td>\n",
              "      <td>skiing</td>\n",
              "      <td>banking</td>\n",
              "      <td>single</td>\n",
              "      <td>thirties</td>\n",
              "      <td>yes</td>\n",
              "      <td>highRisk</td>\n",
              "    </tr>\n",
              "    <tr>\n",
              "      <th>9</th>\n",
              "      <td>low</td>\n",
              "      <td>golf</td>\n",
              "      <td>unemployed</td>\n",
              "      <td>married</td>\n",
              "      <td>forties</td>\n",
              "      <td>yes</td>\n",
              "      <td>highRisk</td>\n",
              "    </tr>\n",
              "  </tbody>\n",
              "</table>\n",
              "</div>\n",
              "    <div class=\"colab-df-buttons\">\n",
              "\n",
              "  <div class=\"colab-df-container\">\n",
              "    <button class=\"colab-df-convert\" onclick=\"convertToInteractive('df-ea6900b9-2f93-4bcb-9d57-3e29e20fddea')\"\n",
              "            title=\"Convert this dataframe to an interactive table.\"\n",
              "            style=\"display:none;\">\n",
              "\n",
              "  <svg xmlns=\"http://www.w3.org/2000/svg\" height=\"24px\" viewBox=\"0 -960 960 960\">\n",
              "    <path d=\"M120-120v-720h720v720H120Zm60-500h600v-160H180v160Zm220 220h160v-160H400v160Zm0 220h160v-160H400v160ZM180-400h160v-160H180v160Zm440 0h160v-160H620v160ZM180-180h160v-160H180v160Zm440 0h160v-160H620v160Z\"/>\n",
              "  </svg>\n",
              "    </button>\n",
              "\n",
              "  <style>\n",
              "    .colab-df-container {\n",
              "      display:flex;\n",
              "      gap: 12px;\n",
              "    }\n",
              "\n",
              "    .colab-df-convert {\n",
              "      background-color: #E8F0FE;\n",
              "      border: none;\n",
              "      border-radius: 50%;\n",
              "      cursor: pointer;\n",
              "      display: none;\n",
              "      fill: #1967D2;\n",
              "      height: 32px;\n",
              "      padding: 0 0 0 0;\n",
              "      width: 32px;\n",
              "    }\n",
              "\n",
              "    .colab-df-convert:hover {\n",
              "      background-color: #E2EBFA;\n",
              "      box-shadow: 0px 1px 2px rgba(60, 64, 67, 0.3), 0px 1px 3px 1px rgba(60, 64, 67, 0.15);\n",
              "      fill: #174EA6;\n",
              "    }\n",
              "\n",
              "    .colab-df-buttons div {\n",
              "      margin-bottom: 4px;\n",
              "    }\n",
              "\n",
              "    [theme=dark] .colab-df-convert {\n",
              "      background-color: #3B4455;\n",
              "      fill: #D2E3FC;\n",
              "    }\n",
              "\n",
              "    [theme=dark] .colab-df-convert:hover {\n",
              "      background-color: #434B5C;\n",
              "      box-shadow: 0px 1px 3px 1px rgba(0, 0, 0, 0.15);\n",
              "      filter: drop-shadow(0px 1px 2px rgba(0, 0, 0, 0.3));\n",
              "      fill: #FFFFFF;\n",
              "    }\n",
              "  </style>\n",
              "\n",
              "    <script>\n",
              "      const buttonEl =\n",
              "        document.querySelector('#df-ea6900b9-2f93-4bcb-9d57-3e29e20fddea button.colab-df-convert');\n",
              "      buttonEl.style.display =\n",
              "        google.colab.kernel.accessAllowed ? 'block' : 'none';\n",
              "\n",
              "      async function convertToInteractive(key) {\n",
              "        const element = document.querySelector('#df-ea6900b9-2f93-4bcb-9d57-3e29e20fddea');\n",
              "        const dataTable =\n",
              "          await google.colab.kernel.invokeFunction('convertToInteractive',\n",
              "                                                    [key], {});\n",
              "        if (!dataTable) return;\n",
              "\n",
              "        const docLinkHtml = 'Like what you see? Visit the ' +\n",
              "          '<a target=\"_blank\" href=https://colab.research.google.com/notebooks/data_table.ipynb>data table notebook</a>'\n",
              "          + ' to learn more about interactive tables.';\n",
              "        element.innerHTML = '';\n",
              "        dataTable['output_type'] = 'display_data';\n",
              "        await google.colab.output.renderOutput(dataTable, element);\n",
              "        const docLink = document.createElement('div');\n",
              "        docLink.innerHTML = docLinkHtml;\n",
              "        element.appendChild(docLink);\n",
              "      }\n",
              "    </script>\n",
              "  </div>\n",
              "\n",
              "\n",
              "<div id=\"df-bf3509ec-b1a9-46f7-9ab9-502b58452a66\">\n",
              "  <button class=\"colab-df-quickchart\" onclick=\"quickchart('df-bf3509ec-b1a9-46f7-9ab9-502b58452a66')\"\n",
              "            title=\"Suggest charts.\"\n",
              "            style=\"display:none;\">\n",
              "\n",
              "<svg xmlns=\"http://www.w3.org/2000/svg\" height=\"24px\"viewBox=\"0 0 24 24\"\n",
              "     width=\"24px\">\n",
              "    <g>\n",
              "        <path d=\"M19 3H5c-1.1 0-2 .9-2 2v14c0 1.1.9 2 2 2h14c1.1 0 2-.9 2-2V5c0-1.1-.9-2-2-2zM9 17H7v-7h2v7zm4 0h-2V7h2v10zm4 0h-2v-4h2v4z\"/>\n",
              "    </g>\n",
              "</svg>\n",
              "  </button>\n",
              "\n",
              "<style>\n",
              "  .colab-df-quickchart {\n",
              "      --bg-color: #E8F0FE;\n",
              "      --fill-color: #1967D2;\n",
              "      --hover-bg-color: #E2EBFA;\n",
              "      --hover-fill-color: #174EA6;\n",
              "      --disabled-fill-color: #AAA;\n",
              "      --disabled-bg-color: #DDD;\n",
              "  }\n",
              "\n",
              "  [theme=dark] .colab-df-quickchart {\n",
              "      --bg-color: #3B4455;\n",
              "      --fill-color: #D2E3FC;\n",
              "      --hover-bg-color: #434B5C;\n",
              "      --hover-fill-color: #FFFFFF;\n",
              "      --disabled-bg-color: #3B4455;\n",
              "      --disabled-fill-color: #666;\n",
              "  }\n",
              "\n",
              "  .colab-df-quickchart {\n",
              "    background-color: var(--bg-color);\n",
              "    border: none;\n",
              "    border-radius: 50%;\n",
              "    cursor: pointer;\n",
              "    display: none;\n",
              "    fill: var(--fill-color);\n",
              "    height: 32px;\n",
              "    padding: 0;\n",
              "    width: 32px;\n",
              "  }\n",
              "\n",
              "  .colab-df-quickchart:hover {\n",
              "    background-color: var(--hover-bg-color);\n",
              "    box-shadow: 0 1px 2px rgba(60, 64, 67, 0.3), 0 1px 3px 1px rgba(60, 64, 67, 0.15);\n",
              "    fill: var(--button-hover-fill-color);\n",
              "  }\n",
              "\n",
              "  .colab-df-quickchart-complete:disabled,\n",
              "  .colab-df-quickchart-complete:disabled:hover {\n",
              "    background-color: var(--disabled-bg-color);\n",
              "    fill: var(--disabled-fill-color);\n",
              "    box-shadow: none;\n",
              "  }\n",
              "\n",
              "  .colab-df-spinner {\n",
              "    border: 2px solid var(--fill-color);\n",
              "    border-color: transparent;\n",
              "    border-bottom-color: var(--fill-color);\n",
              "    animation:\n",
              "      spin 1s steps(1) infinite;\n",
              "  }\n",
              "\n",
              "  @keyframes spin {\n",
              "    0% {\n",
              "      border-color: transparent;\n",
              "      border-bottom-color: var(--fill-color);\n",
              "      border-left-color: var(--fill-color);\n",
              "    }\n",
              "    20% {\n",
              "      border-color: transparent;\n",
              "      border-left-color: var(--fill-color);\n",
              "      border-top-color: var(--fill-color);\n",
              "    }\n",
              "    30% {\n",
              "      border-color: transparent;\n",
              "      border-left-color: var(--fill-color);\n",
              "      border-top-color: var(--fill-color);\n",
              "      border-right-color: var(--fill-color);\n",
              "    }\n",
              "    40% {\n",
              "      border-color: transparent;\n",
              "      border-right-color: var(--fill-color);\n",
              "      border-top-color: var(--fill-color);\n",
              "    }\n",
              "    60% {\n",
              "      border-color: transparent;\n",
              "      border-right-color: var(--fill-color);\n",
              "    }\n",
              "    80% {\n",
              "      border-color: transparent;\n",
              "      border-right-color: var(--fill-color);\n",
              "      border-bottom-color: var(--fill-color);\n",
              "    }\n",
              "    90% {\n",
              "      border-color: transparent;\n",
              "      border-bottom-color: var(--fill-color);\n",
              "    }\n",
              "  }\n",
              "</style>\n",
              "\n",
              "  <script>\n",
              "    async function quickchart(key) {\n",
              "      const quickchartButtonEl =\n",
              "        document.querySelector('#' + key + ' button');\n",
              "      quickchartButtonEl.disabled = true;  // To prevent multiple clicks.\n",
              "      quickchartButtonEl.classList.add('colab-df-spinner');\n",
              "      try {\n",
              "        const charts = await google.colab.kernel.invokeFunction(\n",
              "            'suggestCharts', [key], {});\n",
              "      } catch (error) {\n",
              "        console.error('Error during call to suggestCharts:', error);\n",
              "      }\n",
              "      quickchartButtonEl.classList.remove('colab-df-spinner');\n",
              "      quickchartButtonEl.classList.add('colab-df-quickchart-complete');\n",
              "    }\n",
              "    (() => {\n",
              "      let quickchartButtonEl =\n",
              "        document.querySelector('#df-bf3509ec-b1a9-46f7-9ab9-502b58452a66 button');\n",
              "      quickchartButtonEl.style.display =\n",
              "        google.colab.kernel.accessAllowed ? 'block' : 'none';\n",
              "    })();\n",
              "  </script>\n",
              "</div>\n",
              "    </div>\n",
              "  </div>\n"
            ],
            "text/plain": [
              "   income recreation         job   status age-group home-owner    credit\n",
              "0  medium     skiing      design   single  twenties         no  highRisk\n",
              "1    high       golf     trading  married   forties        yes   lowRisk\n",
              "2     low   speedway   transport  married  thirties        yes   medRisk\n",
              "3  medium   football     banking   single  thirties        yes   lowRisk\n",
              "4    high     flying       media  married   fifties        yes  highRisk\n",
              "5     low   football    security   single  twenties         no   medRisk\n",
              "6  medium       golf       media   single  thirties        yes   medRisk\n",
              "7  medium       golf   transport  married   forties        yes   lowRisk\n",
              "8    high     skiing     banking   single  thirties        yes  highRisk\n",
              "9     low       golf  unemployed  married   forties        yes  highRisk"
            ]
          },
          "execution_count": 6,
          "metadata": {},
          "output_type": "execute_result"
        }
      ],
      "source": [
        "df = pd.read_csv('question2.csv')\n",
        "df"
      ]
    },
    {
      "cell_type": "code",
      "execution_count": null,
      "metadata": {
        "id": "4lpwWCrqDCMc"
      },
      "outputs": [],
      "source": [
        "def prob(x: int, n: int) -> float:\n",
        "  return round(x/n, 3)"
      ]
    },
    {
      "cell_type": "code",
      "execution_count": null,
      "metadata": {
        "colab": {
          "base_uri": "https://localhost:8080/"
        },
        "id": "izU85dnnBcjt",
        "outputId": "4ab2a3ed-38e0-4dca-aca4-f978979b54d6"
      },
      "outputs": [
        {
          "data": {
            "text/plain": [
              "0.4"
            ]
          },
          "execution_count": 33,
          "metadata": {},
          "output_type": "execute_result"
        }
      ],
      "source": [
        "total = df.shape[0]\n",
        "golfCount = df.recreation[df.recreation == 'golf'].count()\n",
        "prob(golfCount, total)"
      ]
    },
    {
      "cell_type": "code",
      "execution_count": null,
      "metadata": {
        "colab": {
          "base_uri": "https://localhost:8080/"
        },
        "id": "2CKamFeyC25W",
        "outputId": "2fb7d9b4-2f5b-4f50-fa7c-2631e1fac951"
      },
      "outputs": [
        {
          "data": {
            "text/plain": [
              "0.667"
            ]
          },
          "execution_count": 34,
          "metadata": {},
          "output_type": "execute_result"
        }
      ],
      "source": [
        "sm = len(df[(df['credit'] == 'medRisk') & (df['status'] == 'single')])\n",
        "s = len(df[df['credit'] == 'medRisk'])\n",
        "prob(sm,s)"
      ]
    },
    {
      "cell_type": "code",
      "source": [],
      "metadata": {
        "id": "Gc8FHjorBihl"
      },
      "execution_count": null,
      "outputs": []
    }
  ],
  "metadata": {
    "colab": {
      "provenance": [],
      "include_colab_link": true
    },
    "kernelspec": {
      "display_name": "Python 3",
      "name": "python3"
    },
    "language_info": {
      "codemirror_mode": {
        "name": "ipython",
        "version": 3
      },
      "file_extension": ".py",
      "mimetype": "text/x-python",
      "name": "python",
      "nbconvert_exporter": "python",
      "pygments_lexer": "ipython3",
      "version": "3.11.5"
    }
  },
  "nbformat": 4,
  "nbformat_minor": 0
}